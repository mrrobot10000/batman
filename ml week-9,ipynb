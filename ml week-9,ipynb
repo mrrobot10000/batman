week 9
multiple linear regression

import numpy as np 
import pandas as pd
import os
for dirname, _, filenames in os.walk('/kaggle/input'):
    for filename in filenames:
        print(os.path.join(dirname, filename))
import pandas as pd
import numpy as np
import matplotlib.pyplot as plt
import seaborn as sns
import warnings
warnings.filterwarnings("ignore")
from sklearn import linear_model
from sklearn.linear_model import LinearRegression
from sklearn import metrics
from sklearn.metrics import mean_squared_error, mean_absolute_error
from sklearn.model_selection import train_test_split, cross_val_score
df = pd.read_csv("/kaggle/input/cardataset/data.csv")
df.head()
df.shape
print(df.corr())
print(df.describe())
X = df[['Weight', 'Volume']]
y = df['CO2']
fig, axs = plt.subplots(2, figsize = (5,5))
plt1 = sns.boxplot(df['Weight'], ax = axs[0])
plt2 = sns.boxplot(df['Volume'], ax = axs[1])
plt.tight_layout()
sns.distplot(df['CO2']);
sns.pairplot(df, x_vars=['Weight', 'Volume'], y_vars='CO2', height=4, aspect=1, kind='scatter')
plt.show()
sns.heatmap(df.corr(), annot = True, cmap = 'coolwarm')
plt.show()
X_train,X_test, y_train, y_test = train_test_split(X, y, test_size = 0.3, random_state = 100)
y_train.shape
y_test.shape
reg_model = linear_model.LinearRegression()
reg_model = LinearRegression().fit(X_train, y_train)
print('Intercept: ',reg_model.intercept_)
list(zip(X, reg_model.coef_))
y_pred= reg_model.predict(X_test)  
x_pred= reg_model.predict(X_train) 
print("Prediction for test set: {}".format(y_pred))
reg_model_diff = pd.DataFrame({'Actual value': y_test, 'Predicted value': y_pred})
reg_model_diff
mae = metrics.mean_absolute_error(y_test, y_pred)
mse = metrics.mean_squared_error(y_test, y_pred)
r2 = np.sqrt(metrics.mean_squared_error(y_test, y_pred))
print('Mean Absolute Error:', mae)
print('Mean Square Error:', mse)
print('Root Mean Square Error:', r2)
