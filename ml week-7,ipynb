import pandas as pd 
from pgmpy.models import BayesianModel 
from pgmpy.estimators import MaximumLikelihoodEstimator 
data = pd.read_csv("heart.csv")  # Replace with the actual path to your data 
model = BayesianModel([ 
    ('age', 'cholestrol'), 
    ('age', 'lifestyle'), 
    ('gender', 'lifestyle'), 
    ('family', 'heartdisease'), 
    ('cholestrol', 'heartdisease'), 
    ('lifestyle', 'heartdisease') 
]) 
estimator = MaximumLikelihoodEstimator() 
estimator.fit(model, data)   
query = {'heartdisease': True} 
evidence = {'age': 30, 'gender': 'Male', 'family': 'No', 'cholestrol': 'High', 'lifestyle': 'Sedentary'} 
inference = VariableElimination(model) 
probability = inference.query(query, evidence) 
print(f"Probability of heart disease: {probability['heartdisease'][1]:.2f}") 
