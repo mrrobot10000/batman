{
 "cells": [
  {
   "cell_type": "code",
   "execution_count": null,
   "id": "5c7b72b2-4eef-48ef-b608-0caa9fe0d51e",
   "metadata": {},
   "outputs": [],
   "source": [
    "import pandas as pd \n",
    "from sklearn.model_selection import train_test_split \n",
    "from sklearn.svm import SVC \n",
    "from sklearn.metrics import accuracy_score \n",
    "#dataset is \n",
    "def load_dataset(file_path): \n",
    "    df = pd.read_csv(file_path) \n",
    "    X = df.drop('label', axis=1)  \n",
    "    y = df['label']                \n",
    "    return X, y \n",
    "def split_dataset(X, y, test_size=0.2): \n",
    "    X_train, X_test, y_train, y_test = train_test_split(X, y, test_size=test_size, random_state=42) \n",
    "    return X_train, X_test, y_train, y_test \n",
    "def train_SVM(X_train, y_train, kernel='linear'): \n",
    "    svm_classifier = SVC(kernel=kernel) \n",
    "    svm_classifier.fit(X_train, y_train) \n",
    "    return svm_classifier \n",
    "def evaluate_classifier(classifier, X_test, y_test): \n",
    "    y_pred = classifier.predict(X_test) \n",
    "    accuracy = accuracy_score(y_test, y_pred) \n",
    "    print(\"Accuracy:\", accuracy) \n",
    "def main():  \n",
    "    file_path = \"dataset.csv\" \n",
    "    X, y = load_dataset(file_path) \n",
    "    X_train, X_test, y_train, y_test = split_dataset(X, y) \n",
    "    svm_classifier = train_SVM(X_train, y_train) \n",
    "    evaluate_classifier(svm_classifier, X_test, y_test) \n",
    "if __name__ == \"__main__\": \n",
    "    main()"
   ]
  }
 ],
 "metadata": {
  "kernelspec": {
   "display_name": "Python 3 (ipykernel)",
   "language": "python",
   "name": "python3"
  },
  "language_info": {
   "codemirror_mode": {
    "name": "ipython",
    "version": 3
   },
   "file_extension": ".py",
   "mimetype": "text/x-python",
   "name": "python",
   "nbconvert_exporter": "python",
   "pygments_lexer": "ipython3",
   "version": "3.11.7"
  }
 },
 "nbformat": 4,
 "nbformat_minor": 5
}
