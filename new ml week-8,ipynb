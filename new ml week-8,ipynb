import numpy as np
import pandas as pd
import matplotlib.pyplot as plt
dataset = pd.read_csv ("Salary_Data.csv")
dataset. head()
from sklearn.model_selection import train_test_split
x= dataset.iloc[:,:-1]Values y=dataset.iloc[:, :1] values
 x_train,x_test, y_train, y_test=train_test_split (x,y, test_size=1/3, random_state=0)
from sklearn.linear_model import LinearRegression
regressor = LinearRegression regressor.fit(x_train,y_train)
 y_pred=regressor.predict (x_test)
y_pred
y_test
plt.scatter (x_test, y_test, color='red')
plt. plot (x_train, regressor. predict(x_train), color="blue")
plt. title ("Salary vs experience")
plt. xlabel ("year of experience") plt.ylabel("salary")
plt.show()
